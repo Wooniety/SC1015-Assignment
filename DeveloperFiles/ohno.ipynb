{
 "cells": [
  {
   "cell_type": "code",
   "execution_count": 3,
   "id": "c0d6b843-f823-4057-b4ad-f412ba56a4e8",
   "metadata": {
    "tags": []
   },
   "outputs": [],
   "source": [
    "\n",
    "#imports\n",
    "import datetime\n",
    "import pandas as pd\n",
    "import numpy as np\n",
    "import matplotlib\n",
    "import matplotlib.pyplot as plt\n",
    "import seaborn as sb\n",
    "\n",
    "pd.set_option(\"display.max_columns\", 500)\n",
    "plt.style.use('ggplot')"
   ]
  },
  {
   "cell_type": "code",
   "execution_count": 4,
   "id": "367b8395-7bc9-413e-ab7a-72d62469f10a",
   "metadata": {
    "tags": []
   },
   "outputs": [],
   "source": [
    "root = \"../data/\""
   ]
  },
  {
   "cell_type": "code",
   "execution_count": 6,
   "id": "601f5bd3-f218-4dbb-9129-87acdbf8c312",
   "metadata": {
    "tags": []
   },
   "outputs": [],
   "source": [
    "# Import the data that will actually be used\n",
    "years = [2018, 2019]\n",
    "dataframes = []\n",
    "column_subset = ['FlightDate',\n",
    "                 'Airline',\n",
    "                 'Operating_Airline',\n",
    "                 'Origin',\n",
    "                 'Dest',\n",
    "                 'Cancelled',\n",
    "                 'Diverted',\n",
    "                 'CRSArrTime',\n",
    "                 'CRSDepTime',\n",
    "                 'DepTime',\n",
    "                 'ArrTime',\n",
    "                 'ArrDelayMinutes',\n",
    "                 'DepDelayMinutes', \n",
    "                 'OriginAirportID',\n",
    "                 'OriginStateName',\n",
    "                 'DestAirportID',\n",
    "                 'DestCityName',\n",
    "                 'DestStateName',\n",
    "                 'DayofMonth',\n",
    "                 'DayOfWeek',\n",
    "                 'CarrierDelay',\n",
    "                 'WeatherDelay',\n",
    "                 'NASDelay',\n",
    "                 'SecurityDelay',\n",
    "                 'LateAircraftDelay'\n",
    "                ]\n",
    "\n",
    "for year in years:\n",
    "    # df = pd.read_parquet(f\"{root}flights_{year}.parquet\", columns=column_subset)\n",
    "    df = pd.read_csv(f\"{root}flights_{year}.csv\")\n",
    "    dataframes.append(df)\n",
    "del df\n",
    "\n",
    "flights_df = pd.concat(dataframes).reset_index(drop=True)"
   ]
  },
  {
   "cell_type": "code",
   "execution_count": 7,
   "id": "a7bbb5ed-7e1d-4c18-b0d8-9c02b478fa8e",
   "metadata": {
    "tags": []
   },
   "outputs": [
    {
     "data": {
      "text/plain": [
       "Index(['FlightDate', 'Airline', 'Origin', 'Dest', 'Cancelled', 'Diverted',\n",
       "       'CRSDepTime', 'DepTime', 'DepDelayMinutes', 'DepDelay', 'ArrTime',\n",
       "       'ArrDelayMinutes', 'AirTime', 'CRSElapsedTime', 'ActualElapsedTime',\n",
       "       'Distance', 'Year', 'Quarter', 'Month', 'DayofMonth', 'DayOfWeek',\n",
       "       'Marketing_Airline_Network', 'Operated_or_Branded_Code_Share_Partners',\n",
       "       'DOT_ID_Marketing_Airline', 'IATA_Code_Marketing_Airline',\n",
       "       'Flight_Number_Marketing_Airline', 'Operating_Airline',\n",
       "       'DOT_ID_Operating_Airline', 'IATA_Code_Operating_Airline',\n",
       "       'Tail_Number', 'Flight_Number_Operating_Airline', 'OriginAirportID',\n",
       "       'OriginAirportSeqID', 'OriginCityMarketID', 'OriginCityName',\n",
       "       'OriginState', 'OriginStateFips', 'OriginStateName', 'OriginWac',\n",
       "       'DestAirportID', 'DestAirportSeqID', 'DestCityMarketID', 'DestCityName',\n",
       "       'DestState', 'DestStateFips', 'DestStateName', 'DestWac', 'DepDel15',\n",
       "       'DepartureDelayGroups', 'DepTimeBlk', 'TaxiOut', 'WheelsOff',\n",
       "       'WheelsOn', 'TaxiIn', 'CRSArrTime', 'ArrDelay', 'ArrDel15',\n",
       "       'ArrivalDelayGroups', 'ArrTimeBlk', 'DistanceGroup',\n",
       "       'DivAirportLandings'],\n",
       "      dtype='object')"
      ]
     },
     "metadata": {},
     "output_type": "display_data"
    }
   ],
   "source": [
    "display(flights_df.columns)"
   ]
  },
  {
   "cell_type": "code",
   "execution_count": 11,
   "id": "3cc46c46-fad4-463a-806f-ca5d126344d8",
   "metadata": {
    "tags": []
   },
   "outputs": [
    {
     "data": {
      "text/plain": [
       "array([-1.,  1., nan,  7.,  0., -2.,  8.,  6.,  3.,  2.,  5.,  4., 12.,\n",
       "       10., 11.,  9.])"
      ]
     },
     "metadata": {},
     "output_type": "display_data"
    }
   ],
   "source": [
    "display(flights_df[\"ArrivalDelayGroups\"])"
   ]
  }
 ],
 "metadata": {
  "kernelspec": {
   "display_name": "Python 3 (ipykernel)",
   "language": "python",
   "name": "python3"
  },
  "language_info": {
   "codemirror_mode": {
    "name": "ipython",
    "version": 3
   },
   "file_extension": ".py",
   "mimetype": "text/x-python",
   "name": "python",
   "nbconvert_exporter": "python",
   "pygments_lexer": "ipython3",
   "version": "3.10.11"
  }
 },
 "nbformat": 4,
 "nbformat_minor": 5
}
